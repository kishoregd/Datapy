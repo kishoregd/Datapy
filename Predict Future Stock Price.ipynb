{
    "metadata": {
        "kernelspec": {
            "name": "python3",
            "display_name": "Python 3"
        },
        "language_info": {
            "name": "python",
            "version": "3.6.6",
            "mimetype": "text/x-python",
            "codemirror_mode": {
                "name": "ipython",
                "version": 3
            },
            "pygments_lexer": "ipython3",
            "nbconvert_exporter": "python",
            "file_extension": ".py"
        }
    },
    "nbformat_minor": 2,
    "nbformat": 4,
    "cells": [
        {
            "cell_type": "markdown",
            "source": [
                "<h1>Predict Future Stock Price</h1>"
            ],
            "metadata": {
                "azdata_cell_guid": "4dfdfbea-cf63-4087-a28d-83de36f1bbbb"
            }
        },
        {
            "cell_type": "code",
            "source": [
                "import pandas as pd\r\n",
                "import numpy as np\r\n",
                "import matplotlib.pyplot as plt\r\n",
                "import pyodbc\r\n",
                "\r\n",
                "# For Training, Testing and building a Model\r\n",
                "from sklearn.tree import DecisionTreeRegressor\r\n",
                "from sklearn.linear_model import LinearRegression\r\n",
                "from sklearn import preprocessing,model_selection\r\n",
                "\r\n",
                "from datetime import datetime\r\n",
                "\r\n",
                "plt.figure(figsize=(16,9))"
            ],
            "metadata": {
                "azdata_cell_guid": "1d475261-1fbb-4f6a-929c-e9c382524978",
                "tags": []
            },
            "outputs": [],
            "execution_count": 238
        },
        {
            "cell_type": "code",
            "source": [
                "days_in_future_predict = 1"
            ],
            "metadata": {
                "azdata_cell_guid": "7d8092d0-481e-4644-8e24-87efaa3ea909"
            },
            "outputs": [],
            "execution_count": 239
        },
        {
            "cell_type": "code",
            "source": [
                "conn_str = ('server=WIN-EEL3AK31AJF;database=DatapyDB;TRUSTED_CONNECTION=yes')\r\n",
                "#df = pd.read_csv('D:\\\\data\\\\XBIT.csv')"
            ],
            "metadata": {
                "azdata_cell_guid": "5644b92f-adc8-4521-884d-1061d1be6f91"
            },
            "outputs": [],
            "execution_count": 240
        },
        {
            "cell_type": "code",
            "source": [
                "conn = pyodbc.connect(r'DRIVER={ODBC Driver 13 for SQL Server};' + conn_str)"
            ],
            "metadata": {
                "azdata_cell_guid": "c9cd55f0-ea06-4148-a4eb-ee9fa34eb253"
            },
            "outputs": [],
            "execution_count": 241
        },
        {
            "cell_type": "code",
            "source": [
                "#sql = \"SELECT * FROM dbo.Stock where StockSym = 'XBIT' AND StockDt < '2019-12-06'\"\r\n",
                "\r\n",
                "sql = \"SELECT * FROM dbo.Stock where StockSym = 'XBIT' AND StockDt < '2019-12-06'\"\r\n",
                "df = pd.read_sql(sql,conn)"
            ],
            "metadata": {
                "azdata_cell_guid": "b8d17614-452c-47b4-b408-f0021979ec86"
            },
            "outputs": [],
            "execution_count": 242
        },
        {
            "cell_type": "code",
            "source": [
                "df.head()"
            ],
            "metadata": {
                "azdata_cell_guid": "e15c60d1-a113-440e-bcfb-ad3170d3653b"
            },
            "outputs": [],
            "execution_count": 243
        },
        {
            "cell_type": "code",
            "source": [
                "df = df.drop(['StockSym'],axis=1)\r\n",
                "df = df.drop(['StockDt'],axis=1)"
            ],
            "metadata": {
                "azdata_cell_guid": "9dd51c28-89f5-4e9e-b294-adb1bc44d0f6",
                "tags": []
            },
            "outputs": [],
            "execution_count": 244
        },
        {
            "cell_type": "code",
            "source": [
                "df.head()"
            ],
            "metadata": {
                "azdata_cell_guid": "420ab0d2-1a93-411c-9a2e-5d95e0f41861"
            },
            "outputs": [],
            "execution_count": 245
        },
        {
            "cell_type": "markdown",
            "source": [
                "<h2>Add a derived column to the data frame</h2>"
            ],
            "metadata": {
                "azdata_cell_guid": "9f54d6f9-8e2c-4c51-92c1-b5a94dc40a61"
            }
        },
        {
            "cell_type": "code",
            "source": [
                "df['prediction'] = df[['StockAdjClose']].shift(-days_in_future_predict)"
            ],
            "metadata": {
                "azdata_cell_guid": "14cbe9e1-c8f9-41d7-9d59-e0827da1e6e6"
            },
            "outputs": [],
            "execution_count": 246
        },
        {
            "cell_type": "code",
            "source": [
                "df.head()"
            ],
            "metadata": {
                "azdata_cell_guid": "8415ee9c-78e1-4230-9322-e90d2b8178a1"
            },
            "outputs": [],
            "execution_count": 247
        },
        {
            "cell_type": "code",
            "source": [
                "df.tail(6)"
            ],
            "metadata": {
                "azdata_cell_guid": "9d61beb5-530b-473d-8d88-0793d79d08e1"
            },
            "outputs": [],
            "execution_count": 248
        },
        {
            "cell_type": "code",
            "source": [
                "df.describe()"
            ],
            "metadata": {
                "azdata_cell_guid": "fa38bb41-0400-47c7-9d07-38506ef2496c"
            },
            "outputs": [],
            "execution_count": 249
        },
        {
            "cell_type": "code",
            "source": [
                "df.dropna(inplace=True)"
            ],
            "metadata": {
                "azdata_cell_guid": "f0c720b1-e0b6-4884-9a67-35ccdacb6bbe"
            },
            "outputs": [],
            "execution_count": 250
        },
        {
            "cell_type": "code",
            "source": [
                "df.describe()"
            ],
            "metadata": {
                "azdata_cell_guid": "9efdd575-b580-4755-a5f2-985c4ac8d1b7"
            },
            "outputs": [],
            "execution_count": 251
        },
        {
            "cell_type": "code",
            "source": [
                "df.tail(3)"
            ],
            "metadata": {
                "azdata_cell_guid": "d7aa92a4-148f-4f55-9f03-6a4ee189b8b4"
            },
            "outputs": [],
            "execution_count": 252
        },
        {
            "cell_type": "code",
            "source": [
                "plt.figure(figsize=(16,9))\r\n",
                "plt.scatter(df['StockAdjClose'],df['prediction'])"
            ],
            "metadata": {
                "azdata_cell_guid": "9b935a6d-286a-4caa-8cf0-05bf12e25602"
            },
            "outputs": [],
            "execution_count": 253
        },
        {
            "cell_type": "code",
            "source": [
                "plt.figure(figsize=(16,9))\r\n",
                "plt.plot(df['StockAdjClose'],color='red')\r\n",
                "plt.plot(df['prediction'],color='green')"
            ],
            "metadata": {
                "azdata_cell_guid": "b27083cc-66ec-4e38-a135-2bf6f2807844"
            },
            "outputs": [],
            "execution_count": 254
        },
        {
            "cell_type": "markdown",
            "source": [
                "Read more on dataframe.drop\r\n",
                "https://pandas.pydata.org/pandas-docs/stable/reference/api/pandas.DataFrame.drop.html"
            ],
            "metadata": {
                "azdata_cell_guid": "a702d50d-c94c-4cf4-8224-c33d0f8c1590"
            }
        },
        {
            "cell_type": "code",
            "source": [
                "X = np.array(df.drop(['prediction'],1))"
            ],
            "metadata": {
                "azdata_cell_guid": "d7e85090-d7f7-44eb-ad06-0f2020f3c18e"
            },
            "outputs": [],
            "execution_count": 255
        },
        {
            "cell_type": "code",
            "source": [
                "X"
            ],
            "metadata": {
                "azdata_cell_guid": "5ee38e52-0361-48d7-b7e2-c2d8b40ad674"
            },
            "outputs": [],
            "execution_count": 256
        },
        {
            "cell_type": "code",
            "source": [
                "print(type(X))"
            ],
            "metadata": {
                "azdata_cell_guid": "41cc643d-da63-4fbe-85a3-0c5e25f17bb3"
            },
            "outputs": [],
            "execution_count": 257
        },
        {
            "cell_type": "code",
            "source": [
                "len(X)"
            ],
            "metadata": {
                "azdata_cell_guid": "392cd731-7e2a-425a-b582-db8da74fd5fd"
            },
            "outputs": [],
            "execution_count": 258
        },
        {
            "cell_type": "code",
            "source": [
                "df.describe()"
            ],
            "metadata": {
                "azdata_cell_guid": "90d5b9f4-bd0d-49ec-b555-1a868219175b"
            },
            "outputs": [],
            "execution_count": 259
        },
        {
            "cell_type": "code",
            "source": [
                "Y = np.array(df['prediction'])"
            ],
            "metadata": {
                "azdata_cell_guid": "977b7bf3-6500-48a2-8bbf-fd46d666526c"
            },
            "outputs": [],
            "execution_count": 260
        },
        {
            "cell_type": "code",
            "source": [
                "Y"
            ],
            "metadata": {
                "azdata_cell_guid": "5c4d82e6-c1f3-4395-8c2a-6d5e7ed26075"
            },
            "outputs": [],
            "execution_count": 261
        },
        {
            "cell_type": "code",
            "source": [
                "len(Y)"
            ],
            "metadata": {
                "azdata_cell_guid": "cb7256e7-4554-4c72-884d-e7a274d824e0"
            },
            "outputs": [],
            "execution_count": 262
        },
        {
            "cell_type": "code",
            "source": [
                "trainX,testX,trainY,testY = model_selection.train_test_split(X,Y,test_size=0.2,random_state=0)"
            ],
            "metadata": {
                "azdata_cell_guid": "3d15d7a7-dafe-42fb-b76c-c125883ef3c9"
            },
            "outputs": [],
            "execution_count": 263
        },
        {
            "cell_type": "markdown",
            "source": [
                "<h2>As part our Supervised Machine Leaning exercise, for training purpose we are using 80% of the records from our dataframe. </h2> "
            ],
            "metadata": {
                "azdata_cell_guid": "a40b1f6c-e6df-42a8-a06a-a2e17c7fb707"
            }
        },
        {
            "cell_type": "code",
            "source": [
                "len(trainX)"
            ],
            "metadata": {
                "azdata_cell_guid": "2476e6b7-c049-43f3-85f3-0eca7056aab4"
            },
            "outputs": [],
            "execution_count": 264
        },
        {
            "cell_type": "code",
            "source": [
                "len(testX)"
            ],
            "metadata": {
                "azdata_cell_guid": "96ac88bb-ab26-4c37-92fe-e155fa63d39c"
            },
            "outputs": [],
            "execution_count": 265
        },
        {
            "cell_type": "code",
            "source": [
                "len(trainY)"
            ],
            "metadata": {
                "azdata_cell_guid": "e116c8ed-4388-4172-bf41-05e4b42269ab"
            },
            "outputs": [],
            "execution_count": 266
        },
        {
            "cell_type": "markdown",
            "source": [
                "<h2>Let's build a Statistical Model using SciKit</h2>"
            ],
            "metadata": {
                "azdata_cell_guid": "8ad06f56-92e8-416b-9be3-81e13014e46f"
            }
        },
        {
            "cell_type": "code",
            "source": [
                "stockPricePredictModel = DecisionTreeRegressor() \r\n",
                "#stockPricePredictModel = LinearRegression() \r\n",
                "\r\n",
                "# Using fit method we are passing all the 388 records stored in both trainX and trainY variables.\r\n",
                "# This is the training step in the model building process.\r\n",
                "\r\n",
                "stockPricePredictModel.fit(trainX, trainY)\r\n",
                "\r\n",
                "# With our model trained with 80% of data from the dataframe\r\n",
                "# we want to test and see how model scores on the remaining 20% of the data\r\n",
                "# Remember in real-world you may be dealing with Terabyte or Petabyte of data\r\n",
                "\r\n",
                "# Score method: Passing both testX and testY variables (they both have 20% of the data)\r\n",
                "# RSquared value is always between 0 and 1 and 1 being high accurancy of prediction\r\n",
                "# I'm multiplying this factor with 100 to represent the value in terms of percentage \r\n",
                "rSquaredFactore = (stockPricePredictModel.score(testX,testY)) * 100\r\n",
                "\r\n",
                "#prediction = (clf.predict(X_prediction))"
            ],
            "metadata": {
                "azdata_cell_guid": "7461dc61-a801-4a36-af1a-5f2ab8b52480"
            },
            "outputs": [],
            "execution_count": 267
        },
        {
            "cell_type": "code",
            "source": [
                "print(rSquaredFactore)"
            ],
            "metadata": {
                "azdata_cell_guid": "c883da86-16c2-4e25-a442-b51ee258ff86"
            },
            "outputs": [],
            "execution_count": 268
        },
        {
            "cell_type": "markdown",
            "source": [
                "<h2>Let's see how our model predicts values for all the values in testX variable. Remeber testX has 20% of the data"
            ],
            "metadata": {
                "azdata_cell_guid": "6c6d40b0-4e88-4390-b5a1-c3525eb27723"
            }
        },
        {
            "cell_type": "markdown",
            "source": [
                "Notice that I'm using predict method from the model. \r\n",
                "Tip: fit() to train, score() to get the R Squared Value and predict() to predict values  "
            ],
            "metadata": {
                "azdata_cell_guid": "6e9a4e50-bfe2-447b-91e4-0226c69e91a7"
            }
        },
        {
            "cell_type": "code",
            "source": [
                "allTestPrediction = stockPricePredictModel.predict(testX)"
            ],
            "metadata": {
                "azdata_cell_guid": "68a74889-db7d-4c29-b38c-fff2330adc86"
            },
            "outputs": [],
            "execution_count": 269
        },
        {
            "cell_type": "markdown",
            "source": [
                "<h2>Let's compare and see how our model performed on predictions"
            ],
            "metadata": {
                "azdata_cell_guid": "8e229d93-779d-4b71-9d9c-2238ff84142f"
            }
        },
        {
            "cell_type": "code",
            "source": [
                "# Creating a temp DataFrame\r\n",
                "dfTemp = pd.DataFrame({'Actual Value in Test (20% of the data)':testY, 'Model Predicted as ':allTestPrediction})"
            ],
            "metadata": {
                "azdata_cell_guid": "e2e3eb03-28f6-4baa-9bf8-0eceb048166a"
            },
            "outputs": [],
            "execution_count": 270
        },
        {
            "cell_type": "code",
            "source": [
                "dfTemp"
            ],
            "metadata": {
                "azdata_cell_guid": "a36298e9-771f-444a-aa32-ca173a9ec61d"
            },
            "outputs": [],
            "execution_count": 271
        },
        {
            "cell_type": "code",
            "source": [
                "plt.figure(figsize=(16,9))\r\n",
                "plt.plot(testY,color=\"blue\")\r\n",
                "plt.plot(allTestPrediction,color=\"red\")"
            ],
            "metadata": {
                "azdata_cell_guid": "10c49474-67c5-4027-9adf-04e8bc44b7b8"
            },
            "outputs": [],
            "execution_count": 272
        },
        {
            "cell_type": "code",
            "source": [
                "sql = \"SELECT TOP 1 * FROM dbo.Stock where StockSym = 'XBIT' AND StockDt < '2019-12-06' ORDER BY StockDt DESC\"\r\n",
                "dfLastRecordedTrade = pd.read_sql(sql,conn)"
            ],
            "metadata": {
                "azdata_cell_guid": "4a4fbf81-ac72-4a15-9c1d-e2c2b06c23c4"
            },
            "outputs": [],
            "execution_count": 273
        },
        {
            "cell_type": "code",
            "source": [
                "dfLastRecordedTrade.head()"
            ],
            "metadata": {
                "azdata_cell_guid": "c373934a-c8b7-44c2-8016-4372165d4fe6"
            },
            "outputs": [],
            "execution_count": 274
        },
        {
            "cell_type": "code",
            "source": [
                "dfLastRecordedTrade = dfLastRecordedTrade.drop(['StockSym'],axis=1)\r\n",
                "dfLastRecordedTrade = dfLastRecordedTrade.drop(['StockDt'],axis=1)"
            ],
            "metadata": {
                "azdata_cell_guid": "06f6a5f3-c63e-4949-baba-1f3b3c32cb4a"
            },
            "outputs": [],
            "execution_count": 275
        },
        {
            "cell_type": "code",
            "source": [
                "dfLastRecordedTrade.head()"
            ],
            "metadata": {
                "azdata_cell_guid": "e962b02f-9d79-47d6-89b3-3f39c696e20a"
            },
            "outputs": [],
            "execution_count": 276
        },
        {
            "cell_type": "code",
            "source": [
                "inputX = np.array(dfLastRecordedTrade)"
            ],
            "metadata": {
                "azdata_cell_guid": "9daa6670-ea6b-4b19-bcb8-599508929c60"
            },
            "outputs": [],
            "execution_count": 277
        },
        {
            "cell_type": "code",
            "source": [
                "inputX"
            ],
            "metadata": {
                "azdata_cell_guid": "c4bc269b-ed10-4310-9ee0-6b5db5ddaf26"
            },
            "outputs": [],
            "execution_count": 278
        },
        {
            "cell_type": "code",
            "source": [
                "futureStockPrice = stockPricePredictModel.predict(inputX)"
            ],
            "metadata": {
                "azdata_cell_guid": "fff43d7b-e5ef-4cfb-b239-f4328e71a0c7"
            },
            "outputs": [],
            "execution_count": 279
        },
        {
            "cell_type": "code",
            "source": [
                "print(futureStockPrice)"
            ],
            "metadata": {
                "azdata_cell_guid": "1cdba0d4-7b07-40d4-bbf3-338770cddb73"
            },
            "outputs": [],
            "execution_count": 280
        }
    ]
}